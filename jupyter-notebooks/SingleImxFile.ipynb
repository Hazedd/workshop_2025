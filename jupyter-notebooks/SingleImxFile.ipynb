{
 "cells": [
  {
   "cell_type": "code",
   "execution_count": 1,
   "id": "6e5de495-41bf-4a29-9a82-97881a981210",
   "metadata": {},
   "outputs": [
    {
     "name": "stdout",
     "output_type": "stream",
     "text": [
      "Requirement already satisfied: imxInsights in c:\\repos\\workshop_2025\\.venv\\lib\\site-packages (0.2.0a2)\n",
      "Requirement already satisfied: content-types in c:\\repos\\workshop_2025\\.venv\\lib\\site-packages (from imxInsights) (0.2.3)\n",
      "Requirement already satisfied: dateparser in c:\\repos\\workshop_2025\\.venv\\lib\\site-packages (from imxInsights) (1.2.1)\n",
      "Requirement already satisfied: deepdiff in c:\\repos\\workshop_2025\\.venv\\lib\\site-packages (from imxInsights) (8.2.0)\n",
      "Requirement already satisfied: geojson in c:\\repos\\workshop_2025\\.venv\\lib\\site-packages (from imxInsights) (3.2.0)\n",
      "Requirement already satisfied: jinja2 in c:\\repos\\workshop_2025\\.venv\\lib\\site-packages (from imxInsights) (3.1.5)\n",
      "Requirement already satisfied: loguru in c:\\repos\\workshop_2025\\.venv\\lib\\site-packages (from imxInsights) (0.7.3)\n",
      "Requirement already satisfied: lxml in c:\\repos\\workshop_2025\\.venv\\lib\\site-packages (from imxInsights) (5.3.1)\n",
      "Requirement already satisfied: networkx in c:\\repos\\workshop_2025\\.venv\\lib\\site-packages (from imxInsights) (3.4.2)\n",
      "Requirement already satisfied: packaging in c:\\repos\\workshop_2025\\.venv\\lib\\site-packages (from imxInsights) (24.2)\n",
      "Requirement already satisfied: pandas in c:\\repos\\workshop_2025\\.venv\\lib\\site-packages (from imxInsights) (2.2.3)\n",
      "Requirement already satisfied: pandas-stubs in c:\\repos\\workshop_2025\\.venv\\lib\\site-packages (from imxInsights) (2.2.3.241126)\n",
      "Requirement already satisfied: pyproj in c:\\repos\\workshop_2025\\.venv\\lib\\site-packages (from imxInsights) (3.7.1)\n",
      "Requirement already satisfied: shapely in c:\\repos\\workshop_2025\\.venv\\lib\\site-packages (from imxInsights) (2.0.7)\n",
      "Requirement already satisfied: tqdm in c:\\repos\\workshop_2025\\.venv\\lib\\site-packages (from imxInsights) (4.67.1)\n",
      "Requirement already satisfied: tqdm-stubs in c:\\repos\\workshop_2025\\.venv\\lib\\site-packages (from imxInsights) (0.2.1)\n",
      "Requirement already satisfied: types-dateparser in c:\\repos\\workshop_2025\\.venv\\lib\\site-packages (from imxInsights) (1.2.0.20250208)\n",
      "Requirement already satisfied: types-lxml in c:\\repos\\workshop_2025\\.venv\\lib\\site-packages (from imxInsights) (2025.2.24)\n",
      "Requirement already satisfied: types-networkx in c:\\repos\\workshop_2025\\.venv\\lib\\site-packages (from imxInsights) (3.4.2.20241227)\n",
      "Requirement already satisfied: types-shapely in c:\\repos\\workshop_2025\\.venv\\lib\\site-packages (from imxInsights) (2.0.0.20250202)\n",
      "Requirement already satisfied: xlsxwriter in c:\\repos\\workshop_2025\\.venv\\lib\\site-packages (from imxInsights) (3.2.2)\n",
      "Requirement already satisfied: python-dateutil>=2.7.0 in c:\\repos\\workshop_2025\\.venv\\lib\\site-packages (from dateparser->imxInsights) (2.9.0.post0)\n",
      "Requirement already satisfied: pytz>=2024.2 in c:\\repos\\workshop_2025\\.venv\\lib\\site-packages (from dateparser->imxInsights) (2025.1)\n",
      "Requirement already satisfied: regex!=2019.02.19,!=2021.8.27,>=2015.06.24 in c:\\repos\\workshop_2025\\.venv\\lib\\site-packages (from dateparser->imxInsights) (2024.11.6)\n",
      "Requirement already satisfied: tzlocal>=0.2 in c:\\repos\\workshop_2025\\.venv\\lib\\site-packages (from dateparser->imxInsights) (5.3)\n",
      "Requirement already satisfied: orderly-set<6,>=5.3.0 in c:\\repos\\workshop_2025\\.venv\\lib\\site-packages (from deepdiff->imxInsights) (5.3.0)\n",
      "Requirement already satisfied: MarkupSafe>=2.0 in c:\\repos\\workshop_2025\\.venv\\lib\\site-packages (from jinja2->imxInsights) (3.0.2)\n",
      "Requirement already satisfied: colorama>=0.3.4 in c:\\repos\\workshop_2025\\.venv\\lib\\site-packages (from loguru->imxInsights) (0.4.6)\n",
      "Requirement already satisfied: win32-setctime>=1.0.0 in c:\\repos\\workshop_2025\\.venv\\lib\\site-packages (from loguru->imxInsights) (1.2.0)\n",
      "Requirement already satisfied: numpy>=1.22.4 in c:\\repos\\workshop_2025\\.venv\\lib\\site-packages (from pandas->imxInsights) (2.2.3)\n",
      "Requirement already satisfied: tzdata>=2022.7 in c:\\repos\\workshop_2025\\.venv\\lib\\site-packages (from pandas->imxInsights) (2025.1)\n",
      "Requirement already satisfied: types-pytz>=2022.1.1 in c:\\repos\\workshop_2025\\.venv\\lib\\site-packages (from pandas-stubs->imxInsights) (2025.1.0.20250204)\n",
      "Requirement already satisfied: certifi in c:\\repos\\workshop_2025\\.venv\\lib\\site-packages (from pyproj->imxInsights) (2025.1.31)\n",
      "Requirement already satisfied: types-beautifulsoup4~=4.12 in c:\\repos\\workshop_2025\\.venv\\lib\\site-packages (from types-lxml->imxInsights) (4.12.0.20250204)\n",
      "Requirement already satisfied: typing_extensions~=4.10 in c:\\repos\\workshop_2025\\.venv\\lib\\site-packages (from types-lxml->imxInsights) (4.12.2)\n",
      "Requirement already satisfied: cssselect~=1.2 in c:\\repos\\workshop_2025\\.venv\\lib\\site-packages (from types-lxml->imxInsights) (1.2.0)\n",
      "Requirement already satisfied: six>=1.5 in c:\\repos\\workshop_2025\\.venv\\lib\\site-packages (from python-dateutil>=2.7.0->dateparser->imxInsights) (1.17.0)\n",
      "Requirement already satisfied: types-html5lib in c:\\repos\\workshop_2025\\.venv\\lib\\site-packages (from types-beautifulsoup4~=4.12->types-lxml->imxInsights) (1.1.11.20241018)\n"
     ]
    },
    {
     "name": "stderr",
     "output_type": "stream",
     "text": [
      "\n",
      "[notice] A new release of pip is available: 23.2.1 -> 25.0.1\n",
      "[notice] To update, run: python.exe -m pip install --upgrade pip\n"
     ]
    }
   ],
   "source": [
    "!pip install imxInsights"
   ]
  },
  {
   "cell_type": "markdown",
   "id": "46999154-c34c-47ff-bbfb-0b8cc91171ae",
   "metadata": {},
   "source": [
    "## Import imxInsights and other libaries"
   ]
  },
  {
   "cell_type": "code",
   "execution_count": 2,
   "id": "4775b405-961e-45ba-b767-21f6782b4d3e",
   "metadata": {},
   "outputs": [],
   "source": [
    "from imxInsights import ImxSingleFile, ImxContainer, ImxMultiRepo\n",
    "from pathlib import Path"
   ]
  },
  {
   "cell_type": "markdown",
   "id": "970b66fc-8d3d-4e25-8cdb-e8d4262d8d29",
   "metadata": {},
   "source": [
    "# Single File "
   ]
  },
  {
   "cell_type": "markdown",
   "id": "7ecb8a80-7eb7-4b10-98cd-a1c77ec80eaa",
   "metadata": {},
   "source": [
    "Provide the path to the XML file, ensuring that the r is placed before the quotation mark.\""
   ]
  },
  {
   "cell_type": "code",
   "execution_count": 3,
   "id": "95f399f2-00e6-406a-b095-cfceb862cd9c",
   "metadata": {},
   "outputs": [],
   "source": [
    "imx_file = r\"C:\\....\\.....\\O_D_.......xml\""
   ]
  },
  {
   "cell_type": "markdown",
   "id": "aac1b0c9-9ded-4bd3-9027-87856a47ad79",
   "metadata": {},
   "source": [
    "### load imx\n",
    "In IMX 12 an IMX file represents a snapshot, a single IMX file can be viewed as two containers in one file. This concept will support standalone IMX files (pre-IMX v12.0) and containerized IMX files (IMX 12 and above).\n",
    "\n",
    "Each situation within an IMX project has its own container_id, which serves as a unique reference to that situation.\n",
    "\n",
    "The code below loads a single imx file and prints the container ids."
   ]
  },
  {
   "cell_type": "code",
   "execution_count": 4,
   "id": "9dde9651-ba4c-4972-a095-6cf5eb330848",
   "metadata": {},
   "outputs": [
    {
     "name": "stderr",
     "output_type": "stream",
     "text": [
      "C:\\repos\\workshop_2025\\.venv\\lib\\site-packages\\imxInsights\\file\\singleFileImx\\imxSingleFile.py:28: UserWarning: ⚠️ WARNING: For single IMX files, we recommend using imxInsights version 0.1.0.dev1.\n",
      "  warnings.warn(\n",
      "\u001b[32m2025-02-25 17:27:24.294\u001b[0m | \u001b[1mINFO    \u001b[0m | \u001b[36mimxInsights.file.singleFileImx.imxSingleFile\u001b[0m:\u001b[36m__init__\u001b[0m:\u001b[36m33\u001b[0m - \u001b[1mprocessing O_D_.......xml\u001b[0m\n"
     ]
    },
    {
     "ename": "ValueError",
     "evalue": "Invalid path C:\\....\\.....\\O_D_.......xml",
     "output_type": "error",
     "traceback": [
      "\u001b[1;31m---------------------------------------------------------------------------\u001b[0m",
      "\u001b[1;31mValueError\u001b[0m                                Traceback (most recent call last)",
      "Cell \u001b[1;32mIn[4], line 1\u001b[0m\n\u001b[1;32m----> 1\u001b[0m imx \u001b[38;5;241m=\u001b[39m \u001b[43mImxSingleFile\u001b[49m\u001b[43m(\u001b[49m\u001b[43mimx_file\u001b[49m\u001b[43m)\u001b[49m\n\u001b[0;32m      2\u001b[0m \u001b[38;5;28mprint\u001b[39m(\u001b[38;5;124m\"\u001b[39m\u001b[38;5;124m---\u001b[39m\u001b[38;5;124m\"\u001b[39m\u001b[38;5;241m*\u001b[39m\u001b[38;5;241m5\u001b[39m)\n\u001b[0;32m      3\u001b[0m \u001b[38;5;28mprint\u001b[39m(\u001b[38;5;124m\"\u001b[39m\u001b[38;5;124mcontainer id init: \u001b[39m\u001b[38;5;124m\"\u001b[39m, imx\u001b[38;5;241m.\u001b[39minitial_situation\u001b[38;5;241m.\u001b[39mcontainer_id)\n",
      "File \u001b[1;32mC:\\repos\\workshop_2025\\.venv\\lib\\site-packages\\imxInsights\\file\\singleFileImx\\imxSingleFile.py:35\u001b[0m, in \u001b[0;36mImxSingleFile.__init__\u001b[1;34m(self, imx_file_path)\u001b[0m\n\u001b[0;32m     32\u001b[0m imx_file_path \u001b[38;5;241m=\u001b[39m Path(imx_file_path)\n\u001b[0;32m     33\u001b[0m logger\u001b[38;5;241m.\u001b[39minfo(\u001b[38;5;124mf\u001b[39m\u001b[38;5;124m\"\u001b[39m\u001b[38;5;124mprocessing \u001b[39m\u001b[38;5;132;01m{\u001b[39;00mimx_file_path\u001b[38;5;241m.\u001b[39mname\u001b[38;5;132;01m}\u001b[39;00m\u001b[38;5;124m\"\u001b[39m)\n\u001b[1;32m---> 35\u001b[0m \u001b[38;5;28mself\u001b[39m\u001b[38;5;241m.\u001b[39mfile: ImxFile \u001b[38;5;241m=\u001b[39m \u001b[43mImxFile\u001b[49m\u001b[43m(\u001b[49m\u001b[43mimx_file_path\u001b[49m\u001b[38;5;241;43m=\u001b[39;49m\u001b[43mimx_file_path\u001b[49m\u001b[43m)\u001b[49m\n\u001b[0;32m     36\u001b[0m \u001b[38;5;28mself\u001b[39m\u001b[38;5;241m.\u001b[39msituation: ImxSituationProtocol \u001b[38;5;241m|\u001b[39m \u001b[38;5;28;01mNone\u001b[39;00m \u001b[38;5;241m=\u001b[39m \u001b[38;5;28;01mNone\u001b[39;00m\n\u001b[0;32m     37\u001b[0m \u001b[38;5;28mself\u001b[39m\u001b[38;5;241m.\u001b[39mnew_situation: ImxSituationProtocol \u001b[38;5;241m|\u001b[39m \u001b[38;5;28;01mNone\u001b[39;00m \u001b[38;5;241m=\u001b[39m \u001b[38;5;28;01mNone\u001b[39;00m\n",
      "File \u001b[1;32mC:\\repos\\workshop_2025\\.venv\\lib\\site-packages\\imxInsights\\file\\imxFile.py:31\u001b[0m, in \u001b[0;36mImxFile.__init__\u001b[1;34m(self, imx_file_path, file_id)\u001b[0m\n\u001b[0;32m     27\u001b[0m \u001b[38;5;28;01mdef\u001b[39;00m\u001b[38;5;250m \u001b[39m\u001b[38;5;21m__init__\u001b[39m(\u001b[38;5;28mself\u001b[39m, imx_file_path: Path, file_id: \u001b[38;5;28mstr\u001b[39m \u001b[38;5;241m=\u001b[39m \u001b[38;5;28mstr\u001b[39m(uuid\u001b[38;5;241m.\u001b[39muuid4())):\n\u001b[0;32m     28\u001b[0m     \u001b[38;5;66;03m# todo: should handle strings aswel, make sure file exist else raise error.\u001b[39;00m\n\u001b[0;32m     29\u001b[0m     \u001b[38;5;66;03m# todo: check if valid UUID if string is given else raise error.\u001b[39;00m\n\u001b[0;32m     30\u001b[0m     \u001b[38;5;28mself\u001b[39m\u001b[38;5;241m.\u001b[39minput_path: \u001b[38;5;28mstr\u001b[39m \u001b[38;5;241m|\u001b[39m Path \u001b[38;5;241m=\u001b[39m imx_file_path\n\u001b[1;32m---> 31\u001b[0m     \u001b[38;5;28mself\u001b[39m\u001b[38;5;241m.\u001b[39m_xml_file: XmlFile \u001b[38;5;241m=\u001b[39m \u001b[43mXmlFile\u001b[49m\u001b[43m(\u001b[49m\u001b[38;5;28;43mself\u001b[39;49m\u001b[38;5;241;43m.\u001b[39;49m\u001b[43minput_path\u001b[49m\u001b[43m)\u001b[49m\n\u001b[0;32m     32\u001b[0m     \u001b[38;5;28mself\u001b[39m\u001b[38;5;241m.\u001b[39mcontainer_id: \u001b[38;5;28mstr\u001b[39m \u001b[38;5;241m=\u001b[39m file_id\n\u001b[0;32m     34\u001b[0m     \u001b[38;5;28;01mif\u001b[39;00m \u001b[38;5;28mself\u001b[39m\u001b[38;5;241m.\u001b[39m_xml_file\u001b[38;5;241m.\u001b[39mroot \u001b[38;5;129;01mis\u001b[39;00m \u001b[38;5;28;01mNone\u001b[39;00m:\n",
      "File \u001b[1;32m<string>:5\u001b[0m, in \u001b[0;36m__init__\u001b[1;34m(self, path, root)\u001b[0m\n",
      "File \u001b[1;32mC:\\repos\\workshop_2025\\.venv\\lib\\site-packages\\imxInsights\\file\\xmlFile.py:48\u001b[0m, in \u001b[0;36mXmlFile.__post_init__\u001b[1;34m(self)\u001b[0m\n\u001b[0;32m     45\u001b[0m     \u001b[38;5;28;01mreturn\u001b[39;00m\n\u001b[0;32m     47\u001b[0m \u001b[38;5;28;01mif\u001b[39;00m \u001b[38;5;129;01mnot\u001b[39;00m \u001b[38;5;28mself\u001b[39m\u001b[38;5;241m.\u001b[39mexists:\n\u001b[1;32m---> 48\u001b[0m     \u001b[38;5;28;01mraise\u001b[39;00m \u001b[38;5;167;01mValueError\u001b[39;00m(\u001b[38;5;124mf\u001b[39m\u001b[38;5;124m\"\u001b[39m\u001b[38;5;124mInvalid path \u001b[39m\u001b[38;5;132;01m{\u001b[39;00m\u001b[38;5;28mself\u001b[39m\u001b[38;5;241m.\u001b[39mpath\u001b[38;5;132;01m}\u001b[39;00m\u001b[38;5;124m\"\u001b[39m)  \u001b[38;5;66;03m# noqa: TRY003\u001b[39;00m\n\u001b[0;32m     50\u001b[0m \u001b[38;5;28mobject\u001b[39m\u001b[38;5;241m.\u001b[39m\u001b[38;5;21m__setattr__\u001b[39m(\u001b[38;5;28mself\u001b[39m, \u001b[38;5;124m\"\u001b[39m\u001b[38;5;124mfile_hash\u001b[39m\u001b[38;5;124m\"\u001b[39m, hash_sha256(\u001b[38;5;28mself\u001b[39m\u001b[38;5;241m.\u001b[39mpath))\n\u001b[0;32m     52\u001b[0m parser \u001b[38;5;241m=\u001b[39m etree\u001b[38;5;241m.\u001b[39mXMLParser(remove_comments\u001b[38;5;241m=\u001b[39m\u001b[38;5;28;01mTrue\u001b[39;00m)\n",
      "\u001b[1;31mValueError\u001b[0m: Invalid path C:\\....\\.....\\O_D_.......xml"
     ]
    }
   ],
   "source": [
    "imx = ImxSingleFile(imx_file)\n",
    "print(\"---\"*5)\n",
    "print(\"container id init: \", imx.initial_situation.container_id)\n",
    "print(\"container id new: \", imx.new_situation.container_id)"
   ]
  },
  {
   "cell_type": "markdown",
   "id": "d1736872-818f-4909-ac1a-b284ace8b4da",
   "metadata": {},
   "source": [
    "### make multi repo\n",
    "\n",
    "To perform a comparison, we need to merge both containers. If an object exists in both containers (situations), we can access two instances of that object.\n",
    "The multi-repo can be extended to include more than two containers, with no theoretical limit. \n",
    "\n",
    "The code below creates a multi-repo and creates a comparison object between 2 situation. We can acces the container ids from the imx object it self."
   ]
  },
  {
   "cell_type": "code",
   "execution_count": null,
   "id": "bd46eaaf-2cc8-4e96-a91f-75819b892730",
   "metadata": {},
   "outputs": [],
   "source": [
    "multi_repo = ImxMultiRepo(\n",
    "    [imx.initial_situation, imx.new_situation]\n",
    ")\n",
    "compare = multi_repo.compare(\n",
    "    imx.initial_situation.container_id, \n",
    "    imx.new_situation.container_id\n",
    ")"
   ]
  },
  {
   "cell_type": "markdown",
   "id": "afdf947b-0dc5-4937-9be0-b7fbbb1f7f5e",
   "metadata": {},
   "source": [
    "After the comparison, we generate an output. The code below creates a directory containing an Excel diff file and a folder with GeoJSON files."
   ]
  },
  {
   "cell_type": "code",
   "execution_count": null,
   "id": "81727f03-1359-4256-9317-25264bb501db",
   "metadata": {},
   "outputs": [],
   "source": [
    "output_folder = r\"output/\"\n",
    "compare.create_geojson_files(f\"{output_folder}\\\\geojson\", to_wgs=True)\n",
    "compare.to_excel(f\"{output_folder}\\\\diff.xlsx\")"
   ]
  },
  {
   "cell_type": "markdown",
   "id": "0e5e013a-980e-443a-971f-8c4ce025f6af",
   "metadata": {},
   "source": [
    "### Advanced"
   ]
  },
  {
   "cell_type": "markdown",
   "id": "b63fa2f1-709b-48e4-abb4-834a25de590e",
   "metadata": {},
   "source": [
    "#### Query container\n",
    "\n",
    "A container can be queried below we have some examples."
   ]
  },
  {
   "cell_type": "markdown",
   "id": "53a347cf-0e46-4310-a248-9559daed9b80",
   "metadata": {},
   "source": [
    "#### By Types\n",
    "This is basicly the XML Tag of a object.\n"
   ]
  },
  {
   "cell_type": "code",
   "execution_count": null,
   "id": "f14a05e0-d6e4-4a6f-a64a-481c690edb84",
   "metadata": {
    "scrolled": true
   },
   "outputs": [],
   "source": [
    "imx.initial_situation.get_types()"
   ]
  },
  {
   "cell_type": "code",
   "execution_count": null,
   "id": "85894846-9e14-4e7d-b4f8-0cf4d5a67167",
   "metadata": {
    "scrolled": true
   },
   "outputs": [],
   "source": [
    "imx.initial_situation.get_by_types([\"SwitchMechanism\"])"
   ]
  },
  {
   "cell_type": "markdown",
   "id": "f5cc2c1e-1b20-4d25-b87b-9e52eda15d3a",
   "metadata": {},
   "source": [
    "#### By Path\n",
    "A tag can be on multiple types, like a switch mech could be on allmost every junction object. To get a specific child type we use the path"
   ]
  },
  {
   "cell_type": "code",
   "execution_count": null,
   "id": "4dbdc5bf-91be-4358-aede-7d618f4a8220",
   "metadata": {
    "scrolled": true
   },
   "outputs": [],
   "source": [
    "imx.new_situation.get_all_paths()"
   ]
  },
  {
   "cell_type": "code",
   "execution_count": null,
   "id": "f06e1520-c8af-46bc-9aac-42fd264d5e5f",
   "metadata": {},
   "outputs": [],
   "source": [
    "imx.initial_situation.get_by_paths([\"SingleDiamondCrossing.SwitchMechanism\"])"
   ]
  },
  {
   "cell_type": "markdown",
   "id": "6850ac31-d3b3-470c-bc7a-6fcece13fb99",
   "metadata": {},
   "source": [
    "#### Puic objects\n",
    "A container contains puic object, we can find and print all properties of a object like below."
   ]
  },
  {
   "cell_type": "code",
   "execution_count": null,
   "id": "7cbd8a9b-39a5-4ef1-af3f-63e8993213d2",
   "metadata": {},
   "outputs": [],
   "source": [
    "imx_object = imx.initial_situation.find(\"9ba2041e-967f-4de3-9140-10c18dca79d8\")\n",
    "imx_object.properties"
   ]
  },
  {
   "cell_type": "markdown",
   "id": "22785e1e-c8fb-4b3e-af4d-8102d5964ffe",
   "metadata": {},
   "source": [
    "#### puic object geometry\n",
    "most objects do have gml geometry, we can access them like below. (featue feature will be to have geomerty of relation objects like a section)"
   ]
  },
  {
   "cell_type": "code",
   "execution_count": null,
   "id": "208bc842-6792-49ca-99ee-d1c37b695f8a",
   "metadata": {},
   "outputs": [],
   "source": [
    "print(imx_object.geographic_location)\n",
    "imx_object.geometry"
   ]
  }
 ],
 "metadata": {
  "kernelspec": {
   "display_name": "Python 3 (ipykernel)",
   "language": "python",
   "name": "python3"
  },
  "language_info": {
   "codemirror_mode": {
    "name": "ipython",
    "version": 3
   },
   "file_extension": ".py",
   "mimetype": "text/x-python",
   "name": "python",
   "nbconvert_exporter": "python",
   "pygments_lexer": "ipython3",
   "version": "3.10.11"
  }
 },
 "nbformat": 4,
 "nbformat_minor": 5
}
