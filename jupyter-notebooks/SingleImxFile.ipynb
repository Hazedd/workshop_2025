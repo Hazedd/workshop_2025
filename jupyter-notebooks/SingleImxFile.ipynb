{
 "cells": [
  {
   "cell_type": "markdown",
   "id": "46999154-c34c-47ff-bbfb-0b8cc91171ae",
   "metadata": {},
   "source": [
    "## Import imxInsights and other libaries"
   ]
  },
  {
   "cell_type": "code",
   "execution_count": null,
   "id": "4775b405-961e-45ba-b767-21f6782b4d3e",
   "metadata": {},
   "outputs": [],
   "source": [
    "from imxInsights import ImxSingleFile, ImxContainer, ImxMultiRepo\n",
    "from pathlib import Path"
   ]
  },
  {
   "cell_type": "markdown",
   "id": "970b66fc-8d3d-4e25-8cdb-e8d4262d8d29",
   "metadata": {},
   "source": [
    "# Single File "
   ]
  },
  {
   "cell_type": "markdown",
   "id": "7ecb8a80-7eb7-4b10-98cd-a1c77ec80eaa",
   "metadata": {},
   "source": [
    "Provide the path to the XML file, ensuring that the r is placed before the quotation mark.\""
   ]
  },
  {
   "cell_type": "code",
   "execution_count": null,
   "id": "95f399f2-00e6-406a-b095-cfceb862cd9c",
   "metadata": {},
   "outputs": [],
   "source": [
    "imx_file = r\"C:\\....\\.....\\O_D_.......xml\""
   ]
  },
  {
   "cell_type": "markdown",
   "id": "aac1b0c9-9ded-4bd3-9027-87856a47ad79",
   "metadata": {},
   "source": [
    "### load imx\n",
    "In IMX 12 an IMX file represents a snapshot, a single IMX file can be viewed as two containers in one file. This concept will support standalone IMX files (pre-IMX v12.0) and containerized IMX files (IMX 12 and above).\n",
    "\n",
    "Each situation within an IMX project has its own container_id, which serves as a unique reference to that situation.\n",
    "\n",
    "The code below loads a single imx file and prints the container ids."
   ]
  },
  {
   "cell_type": "code",
   "execution_count": null,
   "id": "9dde9651-ba4c-4972-a095-6cf5eb330848",
   "metadata": {},
   "outputs": [],
   "source": [
    "imx = ImxSingleFile(imx_file)\n",
    "print(\"---\"*5)\n",
    "print(\"container id init: \", imx.initial_situation.container_id)\n",
    "print(\"container id new: \", imx.new_situation.container_id)"
   ]
  },
  {
   "cell_type": "markdown",
   "id": "d1736872-818f-4909-ac1a-b284ace8b4da",
   "metadata": {},
   "source": [
    "### make multi repo\n",
    "\n",
    "To perform a comparison, we need to merge both containers. If an object exists in both containers (situations), we can access two instances of that object.\n",
    "The multi-repo can be extended to include more than two containers, with no theoretical limit. \n",
    "\n",
    "The code below creates a multi-repo and creates a comparison object between 2 situation. We can acces the container ids from the imx object it self."
   ]
  },
  {
   "cell_type": "code",
   "execution_count": null,
   "id": "bd46eaaf-2cc8-4e96-a91f-75819b892730",
   "metadata": {},
   "outputs": [],
   "source": [
    "multi_repo = ImxMultiRepo(\n",
    "    [imx.initial_situation, imx.new_situation]\n",
    ")\n",
    "compare = multi_repo.compare(\n",
    "    imx.initial_situation.container_id, \n",
    "    imx.new_situation.container_id\n",
    ")"
   ]
  },
  {
   "cell_type": "markdown",
   "id": "afdf947b-0dc5-4937-9be0-b7fbbb1f7f5e",
   "metadata": {},
   "source": [
    "After the comparison, we generate an output. The code below creates a directory containing an Excel diff file and a folder with GeoJSON files."
   ]
  },
  {
   "cell_type": "code",
   "execution_count": null,
   "id": "81727f03-1359-4256-9317-25264bb501db",
   "metadata": {},
   "outputs": [],
   "source": [
    "output_folder = r\"output/\"\n",
    "compare.create_geojson_files(f\"{output_folder}\\\\geojson\", to_wgs=True)\n",
    "compare.to_excel(f\"{output_folder}\\\\diff.xlsx\")"
   ]
  },
  {
   "cell_type": "markdown",
   "id": "0e5e013a-980e-443a-971f-8c4ce025f6af",
   "metadata": {},
   "source": [
    "### Advanced"
   ]
  },
  {
   "cell_type": "markdown",
   "id": "b63fa2f1-709b-48e4-abb4-834a25de590e",
   "metadata": {},
   "source": [
    "#### Query container\n",
    "\n",
    "A container can be queried below we have some examples."
   ]
  },
  {
   "cell_type": "markdown",
   "id": "53a347cf-0e46-4310-a248-9559daed9b80",
   "metadata": {},
   "source": [
    "#### By Types\n",
    "This is basicly the XML Tag of a object.\n"
   ]
  },
  {
   "cell_type": "code",
   "execution_count": null,
   "id": "f14a05e0-d6e4-4a6f-a64a-481c690edb84",
   "metadata": {
    "scrolled": true
   },
   "outputs": [],
   "source": [
    "imx.initial_situation.get_types()"
   ]
  },
  {
   "cell_type": "code",
   "execution_count": null,
   "id": "85894846-9e14-4e7d-b4f8-0cf4d5a67167",
   "metadata": {
    "scrolled": true
   },
   "outputs": [],
   "source": [
    "imx.initial_situation.get_by_types([\"SwitchMechanism\"])"
   ]
  },
  {
   "cell_type": "markdown",
   "id": "f5cc2c1e-1b20-4d25-b87b-9e52eda15d3a",
   "metadata": {},
   "source": [
    "#### By Path\n",
    "A tag can be on multiple types, like a switch mech could be on allmost every junction object. To get a specific child type we use the path"
   ]
  },
  {
   "cell_type": "code",
   "execution_count": null,
   "id": "4dbdc5bf-91be-4358-aede-7d618f4a8220",
   "metadata": {
    "scrolled": true
   },
   "outputs": [],
   "source": [
    "imx.new_situation.get_all_paths()"
   ]
  },
  {
   "cell_type": "code",
   "execution_count": null,
   "id": "f06e1520-c8af-46bc-9aac-42fd264d5e5f",
   "metadata": {},
   "outputs": [],
   "source": [
    "imx.initial_situation.get_by_paths([\"SingleDiamondCrossing.SwitchMechanism\"])"
   ]
  },
  {
   "cell_type": "markdown",
   "id": "6850ac31-d3b3-470c-bc7a-6fcece13fb99",
   "metadata": {},
   "source": [
    "#### Puic objects\n",
    "A container contains puic object, we can find and print all properties of a object like below."
   ]
  },
  {
   "cell_type": "code",
   "execution_count": null,
   "id": "7cbd8a9b-39a5-4ef1-af3f-63e8993213d2",
   "metadata": {},
   "outputs": [],
   "source": [
    "imx_object = imx.initial_situation.find(\"9ba2041e-967f-4de3-9140-10c18dca79d8\")\n",
    "imx_object.properties"
   ]
  },
  {
   "cell_type": "markdown",
   "id": "22785e1e-c8fb-4b3e-af4d-8102d5964ffe",
   "metadata": {},
   "source": [
    "#### puic object geometry\n",
    "most objects do have gml geometry, we can access them like below. (featue feature will be to have geomerty of relation objects like a section)"
   ]
  },
  {
   "cell_type": "code",
   "execution_count": null,
   "id": "208bc842-6792-49ca-99ee-d1c37b695f8a",
   "metadata": {},
   "outputs": [],
   "source": [
    "print(imx_object.geographic_location)\n",
    "imx_object.geometry"
   ]
  }
 ],
 "metadata": {
  "kernelspec": {
   "display_name": "Python 3 (ipykernel)",
   "language": "python",
   "name": "python3"
  },
  "language_info": {
   "codemirror_mode": {
    "name": "ipython",
    "version": 3
   },
   "file_extension": ".py",
   "mimetype": "text/x-python",
   "name": "python",
   "nbconvert_exporter": "python",
   "pygments_lexer": "ipython3",
   "version": "3.10.11"
  }
 },
 "nbformat": 4,
 "nbformat_minor": 5
}
